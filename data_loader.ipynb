{
 "cells": [
  {
   "cell_type": "code",
   "execution_count": 1,
   "metadata": {},
   "outputs": [],
   "source": [
    "import os\n",
    "from DBReader.DBReader import SyncReader\n",
    "from SignalProcessing.rpl import RadarSignalProcessing\n",
    "import matplotlib.pyplot as plt\n",
    "import cv2\n",
    "from tqdm import tqdm"
   ]
  },
  {
   "cell_type": "code",
   "execution_count": 3,
   "metadata": {},
   "outputs": [
    {
     "name": "stderr",
     "output_type": "stream",
     "text": [
      "Processing and Saving images:   2%|▏         | 10/483 [00:33<26:33,  3.37s/it]\n",
      "Processing and Saving images:   8%|▊         | 10/132 [00:36<07:26,  3.66s/it]\n"
     ]
    }
   ],
   "source": [
    "file_path = \"C:\\\\Users\\\\nxg05733\\\\RADIAL-data\" ## Replace with your path\n",
    "# make a image folder\n",
    "os.makedirs('output\\\\images', exist_ok=True)\n",
    "\n",
    "# make a ra folder\n",
    "os.makedirs('output\\\\ra', exist_ok=True)\n",
    "\n",
    "# get all folders in the directory\n",
    "folders = [f for f in os.listdir(file_path) if os.path.isdir(os.path.join(file_path, f))]\n",
    "\n",
    "# iterate over all folders\n",
    "for folder in folders:\n",
    "\n",
    "    # make a sub_folder in output for image and ra\n",
    "    os.makedirs(os.path.join('output\\\\images', folder), exist_ok=True)\n",
    "    os.makedirs(os.path.join('output\\\\ra', folder), exist_ok=True)\n",
    "\n",
    "    # get the folder inside the folder\n",
    "    sub_folders = [f for f in os.listdir(os.path.join(file_path, folder))\n",
    "                    if os.path.isdir(os.path.join(file_path, folder, f))]\n",
    "    \n",
    "    for sub_folder in sub_folders:\n",
    "\n",
    "        # get all files in the folder\n",
    "        db=SyncReader(os.path.join(file_path, folder, sub_folder), tolerance=40000,silent=True)\n",
    "        test = 10\n",
    "        \n",
    "        for i in tqdm(range(len(db)), desc=\"Processing and Saving images\", total=len(db)):\n",
    "            try:\n",
    "                data = db.GetSensorData(i)\n",
    "            except:\n",
    "                print(f\"PROBLEM: Folder {sub_folder}, index {i}\")\n",
    "                continue\n",
    "\n",
    "            # obtain the RA plots (assuming with Torch)\n",
    "            \"\"\" RSP = RadarSignalProcessing('SignalProcessing\\\\CalibrationTable.npy',\n",
    "                                        method='RA',device='cpu',) # REPLACE with path to CalibrationTable.npy \"\"\"\n",
    "            \n",
    "            RSP = RadarSignalProcessing('SignalProcessing\\\\CalibrationTable.npy',\n",
    "                                        method='RA',device='cuda', lib=\"PyTorch\") # REPLACE with path to CalibrationTable.npy\n",
    "            \n",
    "            ra=RSP.run(data['radar_ch0']['data'],data['radar_ch1']['data'],\n",
    "                    data['radar_ch2']['data'],data['radar_ch3']['data'])\n",
    "            \n",
    "            # Flipping the image to match the orientation of the camera\n",
    "            ra = cv2.rotate(ra,cv2.ROTATE_180 )\n",
    "\n",
    "            # save the RA plot in the ra folder under the sub_folder\n",
    "            plt.imsave(os.path.join('output\\\\ra', sub_folder, \"RADAR\"+ str(i)+'.png'), ra)\n",
    "\n",
    "            # save the images in the image folder under the sub_folder\n",
    "            plt.imsave(os.path.join('output\\\\images', sub_folder, \"RADAR\"+ str(i)+'.png'),data['camera']['data'])\n",
    "            if i == test:\n",
    "                break\n",
    "        \n",
    "          \n",
    "\n",
    "       \n",
    "\n",
    "    "
   ]
  }
 ],
 "metadata": {
  "language_info": {
   "name": "python"
  }
 },
 "nbformat": 4,
 "nbformat_minor": 2
}
